{
  "nbformat": 4,
  "nbformat_minor": 0,
  "metadata": {
    "colab": {
      "name": "Section 2 Assignments.ipynb",
      "provenance": [],
      "authorship_tag": "ABX9TyNiNpdrc2kGApGy1/YkaNKJ",
      "include_colab_link": true
    },
    "kernelspec": {
      "name": "python3",
      "display_name": "Python 3"
    },
    "language_info": {
      "name": "python"
    }
  },
  "cells": [
    {
      "cell_type": "markdown",
      "metadata": {
        "id": "view-in-github",
        "colab_type": "text"
      },
      "source": [
        "<a href=\"https://colab.research.google.com/github/SwapnanilMukherjee/Death-event-prediction/blob/main/Section_2_Assignments.ipynb\" target=\"_parent\"><img src=\"https://colab.research.google.com/assets/colab-badge.svg\" alt=\"Open In Colab\"/></a>"
      ]
    },
    {
      "cell_type": "markdown",
      "metadata": {
        "id": "YyjA_5gRI0Km"
      },
      "source": [
        "## **Challenge #1**\n",
        "Try to calculate the sum of all integers between 0 to 100 in your own way."
      ]
    },
    {
      "cell_type": "code",
      "metadata": {
        "colab": {
          "base_uri": "https://localhost:8080/"
        },
        "id": "ddMAcorPIv_I",
        "outputId": "154a5810-5b20-4e88-bfe7-f9932fd6e91b"
      },
      "source": [
        "ans = sum([i for i in range(1,101)])\n",
        "ans"
      ],
      "execution_count": 1,
      "outputs": [
        {
          "output_type": "execute_result",
          "data": {
            "text/plain": [
              "5050"
            ]
          },
          "metadata": {
            "tags": []
          },
          "execution_count": 1
        }
      ]
    },
    {
      "cell_type": "markdown",
      "metadata": {
        "id": "HJiV_2hhJL42"
      },
      "source": [
        "## **Challenge #2**\n",
        "Try to define a function which can take 2 parameters of integers, and calculate the sum of all the integers in between."
      ]
    },
    {
      "cell_type": "code",
      "metadata": {
        "colab": {
          "base_uri": "https://localhost:8080/"
        },
        "id": "rh0s0mZVJMPl",
        "outputId": "4d8380ef-02df-4de4-974a-36b26b2873eb"
      },
      "source": [
        "def summation(start, stop):\n",
        "    ans = sum([i for i in range(start+1, stop)])\n",
        "    return ans\n",
        "\n",
        "summation(10, 20)"
      ],
      "execution_count": 2,
      "outputs": [
        {
          "output_type": "execute_result",
          "data": {
            "text/plain": [
              "135"
            ]
          },
          "metadata": {
            "tags": []
          },
          "execution_count": 2
        }
      ]
    },
    {
      "cell_type": "markdown",
      "metadata": {
        "id": "ku9auZRcVRyN"
      },
      "source": [
        "## **Challenge #3**\n",
        "Try to make the function you created for Challenge 2 able to handle inappropriate input exceptions elegantly."
      ]
    },
    {
      "cell_type": "code",
      "metadata": {
        "colab": {
          "base_uri": "https://localhost:8080/"
        },
        "id": "HcIdxoduVSSm",
        "outputId": "5beba718-a0b0-401c-84f2-50fc79a341b6"
      },
      "source": [
        "def summation(start, stop):\n",
        "\n",
        "    # try:\n",
        "    #     assert isinstance(start, int)\n",
        "    #     assert isinstance(stop, int)\n",
        "    # except:\n",
        "    #     print('Input arguments must be integers')\n",
        "    #     break\n",
        "\n",
        "    # try:\n",
        "    #     assert stop > start\n",
        "    # except:\n",
        "    #     print('Start value should be greater than stop value')\n",
        "\n",
        "    try:\n",
        "        ans = sum([i for i in range(start+1, stop)])\n",
        "        return ans\n",
        "\n",
        "    except Exception as err:\n",
        "        print('Exception: {}'.format(err))\n",
        "\n",
        "    \n",
        "try:\n",
        "    summation('hi', 5)\n",
        "except Exception as err:\n",
        "    print('Exception: {}'.format(err))"
      ],
      "execution_count": 20,
      "outputs": [
        {
          "output_type": "stream",
          "text": [
            "Input arguments must be integers\n",
            "Start value should be greater than stop value\n",
            "Exception: can only concatenate str (not \"int\") to str\n"
          ],
          "name": "stdout"
        }
      ]
    },
    {
      "cell_type": "markdown",
      "metadata": {
        "id": "G4tib407Nq3w"
      },
      "source": [
        "# **Challenge #4**\n",
        "Try to define a class of 'mathBot' which has the following features.\n",
        "- Can be created with arguments that specify date of creation, the name of the created instance, and other properties. These properties should be also editable.\n",
        "- Comes with a memory module that can store/retrieve/update/eliminate data in number into/from different datasets with different label names.\n",
        "- Comes with a stat module that can analyze the stored datasets statistically, such as generating the mean, median, variance, etc.\n",
        "- Is able to handle invalid input.\n",
        "- (Optional and Even Harder! Do it if you enjoy and want to explore) You can build your new class on the base of ChaiBot from Chai.ml! Try it out by referencing this guide: https://collectednotes.com/chai/your-first-chat-ai-in-10-minutes\n",
        "- (To Inifinity and Beyond): You can deploy your bot directly to chai.ml and play with it (Would be discussed on Section 4).\n",
        "    - In addition the the guide provided above, try this one: https://chai.ml/docs/basic"
      ]
    },
    {
      "cell_type": "code",
      "metadata": {
        "colab": {
          "base_uri": "https://localhost:8080/",
          "height": 35
        },
        "id": "fKx1JxNJVA_g",
        "outputId": "7904913b-ae06-44b4-e5fb-68c0e44a2dad"
      },
      "source": [
        "from datetime import date\n",
        "today = date.today()\n",
        "\n",
        "class mathBot():\n",
        "    def __init__(self, name='mathBot'):\n",
        "        self.creation_date = today.strftime(\"%d/%m/%Y\")\n",
        "        self.name = name\n",
        "        self.description = 'Hi! I am a MathBot. I love mathematics.'\n",
        "    \n",
        "    def memory(self, data):\n",
        "        pass\n",
        "    \n",
        "    # def stat\n",
        "\n",
        "\n",
        "\n",
        "bot = mathBot()"
      ],
      "execution_count": 35,
      "outputs": [
        {
          "output_type": "execute_result",
          "data": {
            "application/vnd.google.colaboratory.intrinsic+json": {
              "type": "string"
            },
            "text/plain": [
              "'Hi! I am a MathBot. I love mathematics.'"
            ]
          },
          "metadata": {
            "tags": []
          },
          "execution_count": 35
        }
      ]
    }
  ]
}